{
 "cells": [
  {
   "cell_type": "code",
   "execution_count": 4,
   "metadata": {},
   "outputs": [],
   "source": [
    "from bs4 import BeautifulSoup\n",
    "import requests\n",
    "import pandas as pd\n",
    "\n"
   ]
  },
  {
   "cell_type": "code",
   "execution_count": 5,
   "metadata": {},
   "outputs": [],
   "source": [
    "url = \"https://www.upf.edu/web/mtg/software-datasets\"\n",
    "page = requests.get(url)#entra na url\n",
    "\n",
    "soup = BeautifulSoup(page.content,'html.parser')\n",
    "\n",
    "list=soup.find_all('p')\n",
    "\n"
   ]
  },
  {
   "cell_type": "code",
   "execution_count": 6,
   "metadata": {},
   "outputs": [],
   "source": [
    "links=[]\n",
    "descriptions=[]\n",
    "names=[]\n",
    "\n",
    "for index in range(len(list)):\n",
    "\n",
    "    line = list[index]\n",
    "    if line.string != None:\n",
    "        try: \n",
    "            line.a.get(\"href\")\n",
    "        except:\n",
    "            descriptions.append(line.string)\n",
    "            links.append(list[index-1].a.get(\"href\"))\n",
    "            names.append(list[index-1].a.string)\n",
    "\n",
    "\n",
    "\n",
    "d={'name':names,'desc': descriptions, 'link': links}\n",
    "site = pd.DataFrame(data=d)"
   ]
  },
  {
   "cell_type": "code",
   "execution_count": 7,
   "metadata": {},
   "outputs": [
    {
     "data": {
      "text/html": [
       "<div>\n",
       "<style scoped>\n",
       "    .dataframe tbody tr th:only-of-type {\n",
       "        vertical-align: middle;\n",
       "    }\n",
       "\n",
       "    .dataframe tbody tr th {\n",
       "        vertical-align: top;\n",
       "    }\n",
       "\n",
       "    .dataframe thead th {\n",
       "        text-align: right;\n",
       "    }\n",
       "</style>\n",
       "<table border=\"1\" class=\"dataframe\">\n",
       "  <thead>\n",
       "    <tr style=\"text-align: right;\">\n",
       "      <th></th>\n",
       "      <th>name</th>\n",
       "      <th>desc</th>\n",
       "      <th>link</th>\n",
       "    </tr>\n",
       "  </thead>\n",
       "  <tbody>\n",
       "    <tr>\n",
       "      <th>0</th>\n",
       "      <td>technology portfolio</td>\n",
       "      <td></td>\n",
       "      <td>https://www.upf.edu/web/mtg/technology-portfolio</td>\n",
       "    </tr>\n",
       "    <tr>\n",
       "      <th>1</th>\n",
       "      <td>ESSENTIA</td>\n",
       "      <td>Software library for audio and music analysis, description, and synthesis.</td>\n",
       "      <td>http://essentia.upf.edu</td>\n",
       "    </tr>\n",
       "    <tr>\n",
       "      <th>2</th>\n",
       "      <td>GAIA</td>\n",
       "      <td>Software library to apply similarity measures and classiﬁcations on the results of audio analysis.</td>\n",
       "      <td>https://github.com/MTG/gaia</td>\n",
       "    </tr>\n",
       "    <tr>\n",
       "      <th>3</th>\n",
       "      <td>ESSENTIA.JS</td>\n",
       "      <td>JavaScript (JS) library for music/audio signal analysis and processing powered by Essentia.</td>\n",
       "      <td>https://mtg.github.io/essentia.js/</td>\n",
       "    </tr>\n",
       "    <tr>\n",
       "      <th>4</th>\n",
       "      <td>SMS TOOLS</td>\n",
       "      <td>Sound analysis/synthesis tools for music applications.</td>\n",
       "      <td>https://www.upf.edu/web/mtg/sms-tools</td>\n",
       "    </tr>\n",
       "  </tbody>\n",
       "</table>\n",
       "</div>"
      ],
      "text/plain": [
       "                   name  \\\n",
       "0  technology portfolio   \n",
       "1              ESSENTIA   \n",
       "2                  GAIA   \n",
       "3           ESSENTIA.JS   \n",
       "4             SMS TOOLS   \n",
       "\n",
       "                                                                                                 desc  \\\n",
       "0                                                                                                       \n",
       "1                          Software library for audio and music analysis, description, and synthesis.   \n",
       "2  Software library to apply similarity measures and classiﬁcations on the results of audio analysis.   \n",
       "3         JavaScript (JS) library for music/audio signal analysis and processing powered by Essentia.   \n",
       "4                                              Sound analysis/synthesis tools for music applications.   \n",
       "\n",
       "                                               link  \n",
       "0  https://www.upf.edu/web/mtg/technology-portfolio  \n",
       "1                           http://essentia.upf.edu  \n",
       "2                       https://github.com/MTG/gaia  \n",
       "3                https://mtg.github.io/essentia.js/  \n",
       "4             https://www.upf.edu/web/mtg/sms-tools  "
      ]
     },
     "metadata": {},
     "output_type": "display_data"
    },
    {
     "data": {
      "text/plain": [
       "33    55,000 full audio tracks with 195 tags from genre, instrument, and mood/theme categories.\n",
       "Name: desc, dtype: object"
      ]
     },
     "metadata": {},
     "output_type": "display_data"
    },
    {
     "data": {
      "text/plain": [
       "33    https://doi.org/10.5281/zenodo.3826813\n",
       "Name: link, dtype: object"
      ]
     },
     "metadata": {},
     "output_type": "display_data"
    }
   ],
   "source": [
    "with pd.option_context('display.max_colwidth', None):\n",
    "  display(site.head()) #deve ser definida essa regra \n",
    "\n",
    "  selecao = site['name']==\"MTG-Jamendo:\"\n",
    "  display(site[selecao][\"desc\"])    \n",
    "  display(site[selecao][\"link\"])  \n",
    "\n",
    "#usaremos o df de MTG-Jamendo:"
   ]
  }
 ],
 "metadata": {
  "kernelspec": {
   "display_name": "Python 3.10.8 64-bit (microsoft store)",
   "language": "python",
   "name": "python3"
  },
  "language_info": {
   "codemirror_mode": {
    "name": "ipython",
    "version": 3
   },
   "file_extension": ".py",
   "mimetype": "text/x-python",
   "name": "python",
   "nbconvert_exporter": "python",
   "pygments_lexer": "ipython3",
   "version": "3.10.8"
  },
  "orig_nbformat": 4,
  "vscode": {
   "interpreter": {
    "hash": "ca7e79b36f7f34eb3a0c4a2adea044c137350d4bc0545a9dc86db07c0b41a84d"
   }
  }
 },
 "nbformat": 4,
 "nbformat_minor": 2
}
